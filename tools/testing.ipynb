{
 "cells": [
  {
   "cell_type": "code",
   "execution_count": 29,
   "metadata": {},
   "outputs": [],
   "source": [
    "from functional import run_query"
   ]
  },
  {
   "cell_type": "code",
   "execution_count": 31,
   "metadata": {},
   "outputs": [
    {
     "name": "stdout",
     "output_type": "stream",
     "text": [
      "       name                       mail            reg_date\n",
      "0    Hadley  hadley7046@protonmail.com 2020-06-21 13:42:27\n",
      "1      Cora         cora9812@gmail.com 2020-06-30 11:53:51\n",
      "2    Graham           graham@yahoo.com 2020-06-04 02:13:21\n",
      "3  Hyacinth   hyacinth1535@outlook.com 2020-06-19 08:05:34\n",
      "4   Colette          colette@yahoo.com 2020-06-22 17:20:33\n"
     ]
    }
   ],
   "source": [
    "run_query(\"SELECT name, mail, reg_date FROM user WHERE year(reg_date) = '2020' and month(reg_date) = '06'\")\n",
    "\n"
   ]
  },
  {
   "cell_type": "code",
   "execution_count": null,
   "metadata": {},
   "outputs": [],
   "source": [
    "run_query(\"\")"
   ]
  }
 ],
 "metadata": {
  "kernelspec": {
   "display_name": "Python 3",
   "language": "python",
   "name": "python3"
  },
  "language_info": {
   "codemirror_mode": {
    "name": "ipython",
    "version": 3
   },
   "file_extension": ".py",
   "mimetype": "text/x-python",
   "name": "python",
   "nbconvert_exporter": "python",
   "pygments_lexer": "ipython3",
   "version": "3.9.0"
  },
  "orig_nbformat": 4,
  "vscode": {
   "interpreter": {
    "hash": "575e7c8ed80494ff3a4b348bac9cc457254661120ed86646dd215f7171871abe"
   }
  }
 },
 "nbformat": 4,
 "nbformat_minor": 2
}
